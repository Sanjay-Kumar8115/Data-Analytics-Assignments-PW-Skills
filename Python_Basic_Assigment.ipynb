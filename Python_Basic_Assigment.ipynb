{
  "nbformat": 4,
  "nbformat_minor": 0,
  "metadata": {
    "colab": {
      "provenance": []
    },
    "kernelspec": {
      "name": "python3",
      "display_name": "Python 3"
    },
    "language_info": {
      "name": "python"
    }
  },
  "cells": [
    {
      "cell_type": "code",
      "execution_count": null,
      "metadata": {
        "id": "JPmcLVgguUd1"
      },
      "outputs": [],
      "source": []
    },
    {
      "cell_type": "markdown",
      "source": [
        "\n",
        "# Python Basic Question & Answers **bold text**\n",
        "1. What is Python, and why is it popular?\n",
        "   - Python is a super beginner-friendly programming language. People love it because the syntax is clean and easy to understand. Plus, it works for all kinds of projects — websites, apps, data analysis, automation — you name it.\n",
        "\n",
        "2. What is an interpreter in Python?\n",
        "   - An interpreter is like a reader that goes through your Python code one line at a time and runs it instantly. You don’t need to compile your whole program before seeing what it does.\n",
        "\n",
        "3. What are pre-defined keywords in Python?\n",
        "   - They’re special words that Python already uses for certain things, like if, while, or return. You can’t use them to name your own variables because Python already knows what they mean.\n",
        "\n",
        "4. Can keywords be used as variable names?\n",
        "   - No, they can’t. Since Python already uses them for specific purposes, using them as variable names would confuse the interpreter.\n",
        "\n",
        "5. What is mutability in Python?\n",
        "   - Mutability just means whether or not something can be changed after you create it. If you can update it later, it's mutable. If not, it's immutable.\n",
        "\n",
        "6. Why are lists mutable, but tuples are immutable?\n",
        "   - Lists are designed to be flexible — you can add or remove items anytime. Tuples, on the other hand, are fixed once created. That’s why you can use them as keys in dictionaries (lists can’t be used for that).\n",
        "\n",
        "7. What is the difference between == and is operators in Python?\n",
        "   - == checks if two things have the same value. is checks if they’re actually the same thing in memory — like two different people wearing the same shirt vs. one person you keep pointing at.\n",
        "\n",
        "8. What are logical operators in Python?\n",
        "   - They’re tools to work with multiple conditions. You’ve got:\n",
        "   - and – both things must be true\n",
        "   - or – at least one must be true\n",
        "   - not – flips a condition (true becomes false, and vice versa)\n",
        "\n",
        "9. What is type casting in Python?\n",
        "   - It’s just changing one type of data into another. For example, turning a string like \"123\" into an actual number using int(\"123\").\n",
        "\n",
        "10. What’s the difference between implicit and explicit type casting?\n",
        "   - Implicit casting happens automatically — like adding an int and a float turns the result into a float.\n",
        "Explicit casting is when you do it yourself on purpose using functions like int(), float(), or str().\n",
        "\n",
        "11. What is the purpose of conditional statements in Python?\n",
        "   - They let your code make decisions. Basically, you can tell your program: “If this happens, do that. Otherwise, do something else.”\n",
        "\n",
        "12. How does the elif statement work?\n",
        "   - It’s like saying, “Okay, if the first condition wasn’t true, let’s check this other one.” It goes between if and else.\n",
        "\n",
        "13. What’s the difference between for and while loops?\n",
        "   - Use a for loop when you know how many times you want to run something (like going through a list).\n",
        "Use a while loop when you want to keep going until something changes (like waiting for user input).\n",
        "\n",
        "14. Describe a scenario where a while loop is more suitable than a for loop\n",
        "   - Imagine you’re asking someone to enter the correct password. You don’t know how many times they’ll get it wrong, so you use a while loop to keep asking until they get it right.\n",
        "\n",
        "\n",
        "\n"
      ],
      "metadata": {
        "id": "w11bGg5GxwW9"
      }
    },
    {
      "cell_type": "markdown",
      "source": [
        "# Practical Questions"
      ],
      "metadata": {
        "id": "CMGmgKXE1CJU"
      }
    },
    {
      "cell_type": "code",
      "source": [
        "\n",
        "#1. Write a Python program to print \"Hello, World!\"\n",
        "print(\"Hello, World!\")"
      ],
      "metadata": {
        "colab": {
          "base_uri": "https://localhost:8080/"
        },
        "id": "dwa6AzP3y0DR",
        "outputId": "ab5656a0-f8aa-4dc5-978a-dc5b3f0b41c2"
      },
      "execution_count": 2,
      "outputs": [
        {
          "output_type": "stream",
          "name": "stdout",
          "text": [
            "Hello, World!\n"
          ]
        }
      ]
    },
    {
      "cell_type": "code",
      "source": [
        "# 2. Write code to print all the pre-defined keywords in Python using the keyword library\n",
        "import keyword\n",
        "print(\"Python keywords are:\")\n",
        "print(keyword.kwlist)"
      ],
      "metadata": {
        "colab": {
          "base_uri": "https://localhost:8080/"
        },
        "id": "nUYk9sIOzZfl",
        "outputId": "4ca320b1-168e-4ebe-f1f6-220c4db16644"
      },
      "execution_count": 3,
      "outputs": [
        {
          "output_type": "stream",
          "name": "stdout",
          "text": [
            "Python keywords are:\n",
            "['False', 'None', 'True', 'and', 'as', 'assert', 'async', 'await', 'break', 'class', 'continue', 'def', 'del', 'elif', 'else', 'except', 'finally', 'for', 'from', 'global', 'if', 'import', 'in', 'is', 'lambda', 'nonlocal', 'not', 'or', 'pass', 'raise', 'return', 'try', 'while', 'with', 'yield']\n"
          ]
        }
      ]
    },
    {
      "cell_type": "code",
      "source": [
        "# 3. Write a program that checks if a given word is a Python keyword.\n",
        "word = input(\"Enter a word to check if it's a Python keyword: \")\n",
        "if keyword.iskeyword(word):\n",
        "    print(f\"'{word}' is a Python keyword.\")\n",
        "else:\n",
        "    print(f\"'{word}' is NOT a Python keyword.\")"
      ],
      "metadata": {
        "colab": {
          "base_uri": "https://localhost:8080/"
        },
        "id": "LMjnPOvK1WJb",
        "outputId": "2314e847-245d-4193-e81b-62ced0c28c6b"
      },
      "execution_count": 4,
      "outputs": [
        {
          "output_type": "stream",
          "name": "stdout",
          "text": [
            "Enter a word to check if it's a Python keyword: as\n",
            "'as' is a Python keyword.\n"
          ]
        }
      ]
    },
    {
      "cell_type": "code",
      "source": [
        "# 4. Write a function to demonstrate the behavior of mutable and immutable arguments.\n",
        "def demonstrate_args(immutable, mutable):\n",
        "    print(\"Before changes:\")\n",
        "    print(\"Immutable:\", immutable)\n",
        "    print(\"Mutable:\", mutable)\n",
        "\n",
        "    immutable += 10\n",
        "    mutable.append(99)\n",
        "\n",
        "    print(\"After changes inside function:\")\n",
        "    print(\"Immutable:\", immutable)\n",
        "    print(\"Mutable:\", mutable)\n",
        "\n",
        "x = 5\n",
        "y = [1, 2, 3]\n",
        "demonstrate_args(x, y)\n",
        "\n",
        "print(\"Outside function:\")\n",
        "print(\"x (immutable):\", x)\n",
        "print(\"y (mutable):\", y)"
      ],
      "metadata": {
        "colab": {
          "base_uri": "https://localhost:8080/"
        },
        "id": "-C3jjcom1tnk",
        "outputId": "8bee6af4-9344-455e-cd53-a2fff116c70f"
      },
      "execution_count": 5,
      "outputs": [
        {
          "output_type": "stream",
          "name": "stdout",
          "text": [
            "Before changes:\n",
            "Immutable: 5\n",
            "Mutable: [1, 2, 3]\n",
            "After changes inside function:\n",
            "Immutable: 15\n",
            "Mutable: [1, 2, 3, 99]\n",
            "Outside function:\n",
            "x (immutable): 5\n",
            "y (mutable): [1, 2, 3, 99]\n"
          ]
        }
      ]
    },
    {
      "cell_type": "code",
      "source": [
        "# 5. Create a list and tuple in Python, and demonstrate how attempting to change an element works differently for each.\n",
        "my_list = [10, 20, 30]\n",
        "my_tuple = (10, 20, 30)\n",
        "\n",
        "my_list[0] = 100\n",
        "print(\"Modified list:\", my_list)\n",
        "\n",
        "# my_tuple[0] = 100  # error will occure\n",
        "print(\"Tuples are immutable, so you can't change them like lists.\")"
      ],
      "metadata": {
        "colab": {
          "base_uri": "https://localhost:8080/"
        },
        "id": "kjTI74u93Qab",
        "outputId": "431e90bb-54b3-483b-c15a-5292f00d9ac5"
      },
      "execution_count": 6,
      "outputs": [
        {
          "output_type": "stream",
          "name": "stdout",
          "text": [
            "Modified list: [100, 20, 30]\n",
            "Tuples are immutable, so you can't change them like lists.\n"
          ]
        }
      ]
    },
    {
      "cell_type": "code",
      "source": [
        "# 6. Write a program that performs basic arithmetic operations on two user-input numbers.\n",
        "a = float(input(\"Enter first number: \"))\n",
        "b = float(input(\"Enter second number: \"))\n",
        "\n",
        "print(f\"Addition: {a + b}\")\n",
        "print(f\"Subtraction: {a - b}\")\n",
        "print(f\"Multiplication: {a * b}\")\n",
        "if b != 0:\n",
        "    print(f\"Division: {a / b}\")\n",
        "else:\n",
        "    print(\"Cannot divide by zero.\")"
      ],
      "metadata": {
        "colab": {
          "base_uri": "https://localhost:8080/"
        },
        "id": "J1DB862w3krE",
        "outputId": "c0996828-29ae-4b80-cc7f-cb7772edd87d"
      },
      "execution_count": 7,
      "outputs": [
        {
          "output_type": "stream",
          "name": "stdout",
          "text": [
            "Enter first number: 10\n",
            "Enter second number: 20\n",
            "Addition: 30.0\n",
            "Subtraction: -10.0\n",
            "Multiplication: 200.0\n",
            "Division: 0.5\n"
          ]
        }
      ]
    },
    {
      "cell_type": "code",
      "source": [
        "# 7. Write a program to demonstrate the use of logical operators.\n",
        "x = int(input(\"Enter a number between 1 and 100: \"))\n",
        "if x > 1 and x < 100:\n",
        "    print(\"The number is within range.\")\n",
        "else:\n",
        "    print(\"The number is out of range.\")"
      ],
      "metadata": {
        "colab": {
          "base_uri": "https://localhost:8080/"
        },
        "id": "GP3DFuF83oiK",
        "outputId": "abde6781-dffc-4946-f407-9638d20f9cd7"
      },
      "execution_count": 8,
      "outputs": [
        {
          "output_type": "stream",
          "name": "stdout",
          "text": [
            "Enter a number between 1 and 100: 20\n",
            "The number is within range.\n"
          ]
        }
      ]
    },
    {
      "cell_type": "code",
      "source": [
        "# 8. Write a Python program to convert user input from string to integer, float, and boolean types.\n",
        "user_input = input(\"Enter a value: \")\n",
        "as_int = int(user_input)\n",
        "as_float = float(user_input)\n",
        "as_bool = bool(user_input)\n",
        "\n",
        "print(\"As Integer:\", as_int)\n",
        "print(\"As Float:\", as_float)\n",
        "print(\"As Boolean:\", as_bool)"
      ],
      "metadata": {
        "colab": {
          "base_uri": "https://localhost:8080/"
        },
        "id": "DKNRSuX63rxf",
        "outputId": "aed75632-f1f1-4632-d1ea-dd0160217d58"
      },
      "execution_count": 9,
      "outputs": [
        {
          "output_type": "stream",
          "name": "stdout",
          "text": [
            "Enter a value: 100\n",
            "As Integer: 100\n",
            "As Float: 100.0\n",
            "As Boolean: True\n"
          ]
        }
      ]
    },
    {
      "cell_type": "code",
      "source": [
        "# 9. Write code to demonstrate type casting with list elements.\n",
        "str_numbers = ['1', '2', '3']\n",
        "int_numbers = list(map(int, str_numbers))\n",
        "print(\"Before casting:\", str_numbers)\n",
        "print(\"After casting to integers:\", int_numbers)"
      ],
      "metadata": {
        "colab": {
          "base_uri": "https://localhost:8080/"
        },
        "id": "pCsMkX2q3vN7",
        "outputId": "6f41d19a-7b08-4777-accc-4a3ad774bad9"
      },
      "execution_count": 10,
      "outputs": [
        {
          "output_type": "stream",
          "name": "stdout",
          "text": [
            "Before casting: ['1', '2', '3']\n",
            "After casting to integers: [1, 2, 3]\n"
          ]
        }
      ]
    },
    {
      "cell_type": "code",
      "source": [
        "# 10. Write a program that checks if a number is positive, negative, or zero.\n",
        "num = float(input(\"Enter a number: \"))\n",
        "if num > 0:\n",
        "    print(\"It's a positive number.\")\n",
        "elif num < 0:\n",
        "    print(\"It's a negative number.\")\n",
        "else:\n",
        "    print(\"It's zero.\")"
      ],
      "metadata": {
        "colab": {
          "base_uri": "https://localhost:8080/"
        },
        "id": "7W5-ljY83yX7",
        "outputId": "d4f3df56-c5f5-4ac3-a344-1f0b928a427c"
      },
      "execution_count": 11,
      "outputs": [
        {
          "output_type": "stream",
          "name": "stdout",
          "text": [
            "Enter a number: 20\n",
            "It's a positive number.\n"
          ]
        }
      ]
    },
    {
      "cell_type": "code",
      "source": [
        "# 11. Write a for loop to print numbers from 1 to 10.\n",
        "for i in range(1, 11):\n",
        "    print(i, end=\" \")\n",
        "print()  # For new line"
      ],
      "metadata": {
        "colab": {
          "base_uri": "https://localhost:8080/"
        },
        "id": "UpZDOrNt31CT",
        "outputId": "0370f819-3d0f-4cc6-951d-2241284aafdc"
      },
      "execution_count": 12,
      "outputs": [
        {
          "output_type": "stream",
          "name": "stdout",
          "text": [
            "1 2 3 4 5 6 7 8 9 10 \n"
          ]
        }
      ]
    },
    {
      "cell_type": "code",
      "source": [
        "# 12. Write a Python program to find the sum of all even numbers between 1 and 50.\n",
        "even_sum = 0\n",
        "for i in range(2, 51, 2):\n",
        "    even_sum += i\n",
        "print(\"Sum of even numbers from 1 to 50 is:\", even_sum)\n"
      ],
      "metadata": {
        "colab": {
          "base_uri": "https://localhost:8080/"
        },
        "id": "yTAW8KKr33r9",
        "outputId": "77bf6b4e-8972-480d-eb2a-0c69136c72ee"
      },
      "execution_count": 13,
      "outputs": [
        {
          "output_type": "stream",
          "name": "stdout",
          "text": [
            "Sum of even numbers from 1 to 50 is: 650\n"
          ]
        }
      ]
    },
    {
      "cell_type": "code",
      "source": [
        "# 13. Write a program to reverse a string using a while loop.\n",
        "text = input(\"Enter a string to reverse: \")\n",
        "reversed_str = \"\"\n",
        "index = len(text) - 1\n",
        "while index >= 0:\n",
        "    reversed_str += text[index]\n",
        "    index -= 1\n",
        "print(\"Reversed string:\", reversed_str)"
      ],
      "metadata": {
        "colab": {
          "base_uri": "https://localhost:8080/"
        },
        "id": "hfbgAZeT36YU",
        "outputId": "3aa1cfa7-da4d-4336-a3b2-c9affdb31405"
      },
      "execution_count": 14,
      "outputs": [
        {
          "output_type": "stream",
          "name": "stdout",
          "text": [
            "Enter a string to reverse: sanjay\n",
            "Reversed string: yajnas\n"
          ]
        }
      ]
    },
    {
      "cell_type": "code",
      "source": [
        "# 14. Write a Python program to calculate the factorial of a number provided by the user using a while loop\n",
        "number = int(input(\"Enter a number to calculate factorial: \"))\n",
        "factorial = 1\n",
        "i = 1\n",
        "while i <= number:\n",
        "    factorial *= i\n",
        "    i += 1\n",
        "print(f\"Factorial of {number} is {factorial}\")"
      ],
      "metadata": {
        "colab": {
          "base_uri": "https://localhost:8080/"
        },
        "id": "zWZ1Fzu539xN",
        "outputId": "e8a117a8-a352-4aca-c437-b87131a3fb13"
      },
      "execution_count": 15,
      "outputs": [
        {
          "output_type": "stream",
          "name": "stdout",
          "text": [
            "Enter a number to calculate factorial: 5\n",
            "Factorial of 5 is 120\n"
          ]
        }
      ]
    }
  ]
}